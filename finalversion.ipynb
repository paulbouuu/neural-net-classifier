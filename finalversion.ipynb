{
 "cells": [
  {
   "cell_type": "markdown",
   "metadata": {},
   "source": [
    "We want to get familiar with our data, let's explore it."
   ]
  },
  {
   "cell_type": "code",
   "execution_count": 1,
   "metadata": {},
   "outputs": [
    {
     "name": "stdout",
     "output_type": "stream",
     "text": [
      "                                              images  labels\n",
      "0  [[[1.0, 1.0, 1.0, 1.0, 1.0, 1.0, 1.0, 1.0, 1.0...  [none]\n",
      "1  [[[1.0, 1.0, 1.0, 1.0, 1.0, 1.0, 1.0, 1.0, 1.0...  [none]\n",
      "2  [[[1.0, 1.0, 1.0, 1.0, 1.0, 1.0, 1.0, 1.0, 1.0...  [none]\n",
      "3  [[[1.0, 1.0, 1.0, 1.0, 1.0, 1.0, 1.0, 1.0, 1.0...  [none]\n",
      "4  [[[1.0, 1.0, 1.0, 1.0, 1.0, 1.0, 1.0, 1.0, 1.0...  [none]\n",
      "[none]         13489\n",
      "[Loc]            297\n",
      "[Edge-Loc]       296\n",
      "[Center]          90\n",
      "[Random]          74\n",
      "[Scratch]         72\n",
      "[Edge-Ring]       31\n",
      "[Near-full]       16\n",
      "[Donut]            1\n",
      "Name: labels, dtype: int64\n"
     ]
    }
   ],
   "source": [
    "import pandas as pd\n",
    "import numpy as np\n",
    "df = pd.read_pickle('waferImg26x26.pkl')\n",
    "images = df.images.values\n",
    "labels = df.labels.values\n",
    "labels = np.asarray([str(l[0]) for l in labels])\n",
    "\n",
    "print(df.head())\n",
    "print(df['labels'].value_counts())"
   ]
  },
  {
   "cell_type": "markdown",
   "metadata": {},
   "source": [
    "The label part is pretty clear, most wafers don't have any \"default\", it corresponds to the label 'none'.\n",
    "The other defaults are listed, they should correspond to where the default is located.\n",
    "\n",
    "Let's try to visualize an image. First, how is the image represented ?"
   ]
  },
  {
   "cell_type": "code",
   "execution_count": 2,
   "metadata": {},
   "outputs": [
    {
     "name": "stdout",
     "output_type": "stream",
     "text": [
      "[[[1. 1. 1. ... 1. 1. 1.]\n",
      "  [1. 1. 1. ... 1. 1. 1.]\n",
      "  [1. 1. 1. ... 1. 1. 1.]\n",
      "  ...\n",
      "  [1. 1. 1. ... 1. 1. 1.]\n",
      "  [1. 1. 1. ... 1. 1. 1.]\n",
      "  [1. 1. 1. ... 1. 1. 1.]]\n",
      "\n",
      " [[0. 0. 0. ... 0. 0. 0.]\n",
      "  [0. 0. 0. ... 0. 0. 0.]\n",
      "  [0. 0. 0. ... 0. 0. 0.]\n",
      "  ...\n",
      "  [0. 0. 0. ... 0. 0. 0.]\n",
      "  [0. 0. 0. ... 0. 0. 0.]\n",
      "  [0. 0. 0. ... 0. 0. 0.]]\n",
      "\n",
      " [[0. 0. 0. ... 0. 0. 0.]\n",
      "  [0. 0. 0. ... 0. 0. 0.]\n",
      "  [0. 0. 0. ... 0. 0. 0.]\n",
      "  ...\n",
      "  [0. 0. 0. ... 0. 0. 0.]\n",
      "  [0. 0. 0. ... 0. 0. 0.]\n",
      "  [0. 0. 0. ... 0. 0. 0.]]]\n"
     ]
    }
   ],
   "source": [
    "print(df['images'][0])"
   ]
  },
  {
   "cell_type": "markdown",
   "metadata": {},
   "source": [
    "The image is composed of 3 arrays, they correspond to each color (RGB representation).\n",
    "Each array must be of size 26x26 but let's check it out."
   ]
  },
  {
   "cell_type": "code",
   "execution_count": 8,
   "metadata": {},
   "outputs": [
    {
     "name": "stdout",
     "output_type": "stream",
     "text": [
      "676\n",
      "676\n",
      "676\n",
      "676\n"
     ]
    }
   ],
   "source": [
    "print(df['images'][0][0].size)\n",
    "print(df['images'][0][1].size)\n",
    "print(df['images'][0][2].size)\n",
    "print(26*26)"
   ]
  },
  {
   "cell_type": "markdown",
   "metadata": {},
   "source": [
    "We indeed have 3 arrays of 26 by 26, representing each RGB color.\n",
    "\n",
    "Now let's visualize one image with matplotlib. We just have to transpose data to make it compatible with plt.imshow."
   ]
  },
  {
   "cell_type": "code",
   "execution_count": 9,
   "metadata": {},
   "outputs": [
    {
     "data": {
      "image/png": "[encoded data removed]",
      "text/plain": [
       "<Figure size 640x480 with 1 Axes>"
      ]
     },
     "metadata": {},
     "output_type": "display_data"
    }
   ],
   "source": [
    "import matplotlib.pyplot as plt\n",
    "first_image_data = df.iloc[0]['images']\n",
    "\n",
    "transposed_image_data = np.transpose(first_image_data, (1, 2, 0))      #transpose to make it compatible with plt.imshow\n",
    "\n",
    "plt.imshow(transposed_image_data)\n",
    "plt.show()"
   ]
  },
  {
   "cell_type": "markdown",
   "metadata": {},
   "source": [
    "It corresponds to what we must find, the image of the pdf is the first image of the dataset. Let's explore the different label categories :"
   ]
  },
  {
   "cell_type": "code",
   "execution_count": 10,
   "metadata": {},
   "outputs": [
    {
     "data": {
      "image/png": "[encoded data removed]",
      "text/plain": [
       "<Figure size 640x480 with 1 Axes>"
      ]
     },
     "metadata": {},
     "output_type": "display_data"
    }
   ],
   "source": [
    "# find image of a specific label among :\n",
    "# [none]         13489\n",
    "# [Loc]            297\n",
    "# [Edge-Loc]       296\n",
    "# [Center]          90\n",
    "# [Random]          74\n",
    "# [Scratch]         72\n",
    "# [Edge-Ring]       31\n",
    "# [Near-full]       16\n",
    "# [Donut]            1\n",
    "wanted_label = 'Edge-Ring'\n",
    "loc_images_df = df[df['labels'] == wanted_label]\n",
    "\n",
    "if not loc_images_df.empty:\n",
    "    loc_image_data = loc_images_df.iloc[0]['images']\n",
    "    # print(loc_image_data[0],type(loc_image_data[0]))\n",
    "    # print(\"\\n\",loc_image_data[1],type(loc_image_data[1]))\n",
    "    # print(\"\\n\",loc_image_data[2],type(loc_image_data[2]))\n",
    "\n",
    "    plt.imshow(np.transpose(loc_image_data, (1, 2, 0)))\n",
    "    plt.show()"
   ]
  },
  {
   "cell_type": "markdown",
   "metadata": {},
   "source": [
    "The labels are pretty explicit, \"Donut\" returns a donut shape on the wafer, \"Edge-Ring\" returns a semi circle on the edge of the wafer..."
   ]
  },
  {
   "cell_type": "code",
   "execution_count": 18,
   "metadata": {},
   "outputs": [
    {
     "name": "stdout",
     "output_type": "stream",
     "text": [
      "x_train shape: (12929, 26, 26, 3)\n",
      "y_train shape: (12929, 9)\n",
      "x_test shape: (1437, 26, 26, 3)\n",
      "y_test shape: (1437, 9)\n",
      "number of classes: 9\n"
     ]
    }
   ],
   "source": [
    "from sklearn.model_selection import train_test_split\n",
    "from keras.utils import to_categorical\n",
    "from sklearn.preprocessing import LabelEncoder\n",
    "\n",
    "images = np.array([np.transpose(img, (1, 2, 0)) for img in images])\n",
    "\n",
    "# we have to encode labels to transform them into vectors, then to turn them into categorical labels\n",
    "label_encoder = LabelEncoder()\n",
    "integer_encoded = label_encoder.fit_transform(labels)\n",
    "\n",
    "categorical_encoded_labels = to_categorical(integer_encoded)    # labels are represented by vectors with 0s and a single 1\n",
    "\n",
    "num_classes = categorical_encoded_labels.shape[1]    # how many labels there are\n",
    "\n",
    "# we choose to use 10% of the data to test the accuracy, and 90% to train\n",
    "x_train, x_test, y_train, y_test = train_test_split(images, categorical_encoded_labels, test_size=0.1, random_state=42)\n",
    "\n",
    "print(f\"x_train shape: {x_train.shape}\")\n",
    "print(f\"y_train shape: {y_train.shape}\")\n",
    "print(f\"x_test shape: {x_test.shape}\")\n",
    "print(f\"y_test shape: {y_test.shape}\")\n",
    "print(f\"number of classes: {num_classes}\")\n"
   ]
  },
  {
   "cell_type": "markdown",
   "metadata": {},
   "source": [
    "The input shape will therefore be (26, 26, 3), the number of classes is correct, we can now build our model and start the \n",
    "training.\n",
    "\n",
    "First we will choose basic parameters, we will try to play with them later on."
   ]
  },
  {
   "cell_type": "code",
   "execution_count": 19,
   "metadata": {},
   "outputs": [
    {
     "name": "stdout",
     "output_type": "stream",
     "text": [
      "Model: \"sequential_4\"\n",
      "_________________________________________________________________\n",
      " Layer (type)                Output Shape              Param #   \n",
      "=================================================================\n",
      " conv2d_11 (Conv2D)          (None, 24, 24, 32)        896       \n",
      "                                                                 \n",
      " max_pooling2d_11 (MaxPooli  (None, 12, 12, 32)        0         \n",
      " ng2D)                                                           \n",
      "                                                                 \n",
      " conv2d_12 (Conv2D)          (None, 10, 10, 64)        18496     \n",
      "                                                                 \n",
      " max_pooling2d_12 (MaxPooli  (None, 5, 5, 64)          0         \n",
      " ng2D)                                                           \n",
      "                                                                 \n",
      " conv2d_13 (Conv2D)          (None, 3, 3, 128)         73856     \n",
      "                                                                 \n",
      " max_pooling2d_13 (MaxPooli  (None, 1, 1, 128)         0         \n",
      " ng2D)                                                           \n",
      "                                                                 \n",
      " flatten_4 (Flatten)         (None, 128)               0         \n",
      "                                                                 \n",
      " dropout_4 (Dropout)         (None, 128)               0         \n",
      "                                                                 \n",
      " dense_8 (Dense)             (None, 128)               16512     \n",
      "                                                                 \n",
      " dense_9 (Dense)             (None, 9)                 1161      \n",
      "                                                                 \n",
      "=================================================================\n",
      "Total params: 110921 (433.29 KB)\n",
      "Trainable params: 110921 (433.29 KB)\n",
      "Non-trainable params: 0 (0.00 Byte)\n",
      "_________________________________________________________________\n",
      "Epoch 1/10\n",
      "405/405 [==============================] - 16s 36ms/step - loss: 0.3154 - accuracy: 0.9377 - val_loss: 0.2603 - val_accuracy: 0.9429\n",
      "Epoch 2/10\n",
      "405/405 [==============================] - 15s 37ms/step - loss: 0.2250 - accuracy: 0.9465 - val_loss: 0.1937 - val_accuracy: 0.9527\n",
      "Epoch 3/10\n",
      "405/405 [==============================] - 12s 30ms/step - loss: 0.1981 - accuracy: 0.9513 - val_loss: 0.1912 - val_accuracy: 0.9457\n",
      "Epoch 4/10\n",
      "405/405 [==============================] - 14s 35ms/step - loss: 0.1742 - accuracy: 0.9551 - val_loss: 0.1906 - val_accuracy: 0.9450\n",
      "Epoch 5/10\n",
      "405/405 [==============================] - 15s 37ms/step - loss: 0.1595 - accuracy: 0.9565 - val_loss: 0.1655 - val_accuracy: 0.9527\n",
      "Epoch 6/10\n",
      "405/405 [==============================] - 16s 40ms/step - loss: 0.1477 - accuracy: 0.9604 - val_loss: 0.1589 - val_accuracy: 0.9582\n",
      "Epoch 7/10\n",
      "405/405 [==============================] - 16s 40ms/step - loss: 0.1416 - accuracy: 0.9612 - val_loss: 0.1549 - val_accuracy: 0.9589\n",
      "Epoch 8/10\n",
      "405/405 [==============================] - 14s 35ms/step - loss: 0.1254 - accuracy: 0.9653 - val_loss: 0.1586 - val_accuracy: 0.9610\n",
      "Epoch 9/10\n",
      "405/405 [==============================] - 16s 40ms/step - loss: 0.1114 - accuracy: 0.9669 - val_loss: 0.1466 - val_accuracy: 0.9617\n",
      "Epoch 10/10\n",
      "405/405 [==============================] - 16s 39ms/step - loss: 0.0958 - accuracy: 0.9708 - val_loss: 0.1580 - val_accuracy: 0.9589\n",
      "45/45 [==============================] - 1s 16ms/step - loss: 0.1580 - accuracy: 0.9589\n",
      "Test loss: 0.15803539752960205\n",
      "Test accuracy: 0.9589422345161438\n"
     ]
    }
   ],
   "source": [
    "from keras.models import Sequential\n",
    "from keras.layers import Conv2D, MaxPooling2D, Flatten, Dense, Dropout\n",
    "\n",
    "model = Sequential()\n",
    "\n",
    "model.add(Conv2D(filters=32, kernel_size=(3, 3), activation='relu', input_shape=(26, 26, 3)))\n",
    "model.add(MaxPooling2D(pool_size=(2, 2)))\n",
    "model.add(Conv2D(filters=64, kernel_size=(3, 3), activation='relu'))\n",
    "model.add(MaxPooling2D(pool_size=(2, 2)))\n",
    "model.add(Conv2D(filters=128, kernel_size=(3, 3), activation='relu'))\n",
    "model.add(MaxPooling2D(pool_size=(2, 2)))\n",
    "model.add(Flatten())\n",
    "model.add(Dropout(0.5))\n",
    "model.add(Dense(128, activation='relu'))\n",
    "model.add(Dense(num_classes, activation='softmax'))\n",
    "model.compile(loss='categorical_crossentropy', optimizer='adam', metrics=['accuracy'])\n",
    "\n",
    "\n",
    "model.summary()\n",
    "\n",
    "model.fit(x_train, y_train, batch_size=32, epochs=10, validation_data=(x_test, y_test))\n",
    "\n",
    "score = model.evaluate(x_test, y_test)\n",
    "print('Test loss:', score[0])\n",
    "print('Test accuracy:', score[1])\n"
   ]
  },
  {
   "cell_type": "markdown",
   "metadata": {},
   "source": [
    "95% accuracy is not bad, but not great either\n",
    "\n",
    "Moreover, by looking at the labels distribution :\n",
    "[none]         13489\n",
    "[Loc]            297\n",
    "[Edge-Loc]       296\n",
    "[Center]          90\n",
    "[Random]          74\n",
    "[Scratch]         72\n",
    "[Edge-Ring]       31\n",
    "[Near-full]       16\n",
    "[Donut]            1\n",
    "\n",
    "We can suspect that the model will be poorly rained to recognize \"Donut\", and maybe \"Near-full\" too. Let's check this out."
   ]
  },
  {
   "cell_type": "code",
   "execution_count": 29,
   "metadata": {},
   "outputs": [
    {
     "data": {
      "image/png": "[encoded data removed]",
      "text/plain": [
       "<Figure size 640x480 with 1 Axes>"
      ]
     },
     "metadata": {},
     "output_type": "display_data"
    }
   ],
   "source": [
    "wanted_label = 'Donut'\n",
    "loc_images_df = df[df['labels'] == wanted_label]\n",
    "\n",
    "if not loc_images_df.empty:\n",
    "    loc_image_data = loc_images_df.iloc[0]['images']\n",
    "    # print(loc_image_data[0],type(loc_image_data[0]))\n",
    "    # print(\"\\n\",loc_image_data[1],type(loc_image_data[1]))\n",
    "    # print(\"\\n\",loc_image_data[2],type(loc_image_data[2]))\n",
    "\n",
    "    plt.imshow(np.transpose(loc_image_data, (1, 2, 0)))\n",
    "    plt.show()"
   ]
  },
  {
   "cell_type": "markdown",
   "metadata": {},
   "source": [
    "Now let's put this image in our model to see what it would predict."
   ]
  },
  {
   "cell_type": "code",
   "execution_count": 31,
   "metadata": {},
   "outputs": [
    {
     "name": "stdout",
     "output_type": "stream",
     "text": [
      "True\n"
     ]
    }
   ],
   "source": [
    "transposed_loc_image_data = np.transpose(loc_image_data, (1, 2, 0))\n",
    "#print(transposed_loc_image_data)\n",
    "\n",
    "#print(\"\\n\\nTraining dataset:\\n\", x_train)\n",
    "\n",
    "print(transposed_loc_image_data in x_train)"
   ]
  },
  {
   "cell_type": "markdown",
   "metadata": {},
   "source": [
    "The \"Donut\" image is even in the training dataset. Let's see if the model can guess right."
   ]
  },
  {
   "cell_type": "code",
   "execution_count": 34,
   "metadata": {},
   "outputs": [
    {
     "name": "stdout",
     "output_type": "stream",
     "text": [
      "1/1 [==============================] - 0s 109ms/step\n",
      "The model predicts Edge-Loc with a probability of 0.8830438852310181\n"
     ]
    }
   ],
   "source": [
    "\n",
    "test_image_batch = np.expand_dims(transposed_loc_image_data, axis=0)\n",
    "\n",
    "predictions = model.predict(test_image_batch)\n",
    "\n",
    "predicted_class_index = np.argmax(predictions, axis=1)\n",
    "\n",
    "predicted_class_label = label_encoder.inverse_transform(predicted_class_index)    #re transpose back\n",
    "\n",
    "predicted_probability = np.max(predictions, axis=1)\n",
    "\n",
    "print(f\"The model predicts {predicted_class_label[0]} with a probability of {predicted_probability[0]}\")\n"
   ]
  },
  {
   "cell_type": "markdown",
   "metadata": {},
   "source": [
    "Our model is terrible for \"Donut\", but it was obvious because there was only one \"Donut\" image to train.\n",
    "\n",
    "What about categories that have more (or way more) occurences ?\n",
    "\n",
    "Let's try for \"Loc\" (297 occurences), \"Center\" (90) and \"Edge-Ring\" (31).\n",
    "\n",
    "First let's see how the labels are encoded:"
   ]
  },
  {
   "cell_type": "code",
   "execution_count": 95,
   "metadata": {},
   "outputs": [
    {
     "name": "stdout",
     "output_type": "stream",
     "text": [
      "Center: 0\n",
      "Donut: 1\n",
      "Edge-Loc: 2\n",
      "Edge-Ring: 3\n",
      "Loc: 4\n",
      "Near-full: 5\n",
      "Random: 6\n",
      "Scratch: 7\n",
      "none: 8\n",
      "1/1 [==============================] - 0s 50ms/step\n",
      "The model predicts Edge-Loc with a probability of 0.7736133337020874\n"
     ]
    }
   ],
   "source": [
    "label_mapping = dict(zip(label_encoder.classes_, label_encoder.transform(label_encoder.classes_)))\n",
    "\n",
    "for label, encoded_label in label_mapping.items():\n",
    "    print(f\"{label}: {encoded_label}\")\n",
    "\n",
    "L = np.array([0, 0, 0, 0, 1, 0, 0, 0, 0])\n",
    "\n",
    "# for k in range(1000):         #determination of an image \"Loc\"\n",
    "#     if np.array_equal(y_test[k], L):\n",
    "#         print(k)\n",
    "\n",
    "# 233\n",
    "# 297\n",
    "# 376\n",
    "# 377\n",
    "\n",
    "x_test[233]\n",
    "\n",
    "test_image_batch = np.expand_dims(x_test[233], axis=0)\n",
    "\n",
    "predictions = model.predict(test_image_batch)\n",
    "\n",
    "predicted_class_index = np.argmax(predictions, axis=1)\n",
    "\n",
    "predicted_class_label = label_encoder.inverse_transform(predicted_class_index)    #re transpose back\n",
    "\n",
    "predicted_probability = np.max(predictions, axis=1)\n",
    "\n",
    "print(f\"The model predicts {predicted_class_label[0]} with a probability of {predicted_probability[0]}\")"
   ]
  },
  {
   "cell_type": "markdown",
   "metadata": {},
   "source": [
    "The model predicted wrong but still it is a Loc default. Let's try with \"Center\"."
   ]
  },
  {
   "cell_type": "code",
   "execution_count": 98,
   "metadata": {},
   "outputs": [
    {
     "name": "stdout",
     "output_type": "stream",
     "text": [
      "Center: 0\n",
      "Donut: 1\n",
      "Edge-Loc: 2\n",
      "Edge-Ring: 3\n",
      "Loc: 4\n",
      "Near-full: 5\n",
      "Random: 6\n",
      "Scratch: 7\n",
      "none: 8\n",
      "1/1 [==============================] - 0s 264ms/step\n",
      "The model predicts none with a probability of 0.6262046098709106\n"
     ]
    }
   ],
   "source": [
    "label_mapping = dict(zip(label_encoder.classes_, label_encoder.transform(label_encoder.classes_)))\n",
    "\n",
    "for label, encoded_label in label_mapping.items():\n",
    "    print(f\"{label}: {encoded_label}\")\n",
    "\n",
    "L = np.array([1, 0, 0, 0, 0, 0, 0, 0, 0])\n",
    "\n",
    "# for k in range(1000):         #determination of an image \"Center\"\n",
    "#     if np.array_equal(y_test[k], L):\n",
    "#         print(k)\n",
    "\n",
    "# 4\n",
    "# 346\n",
    "# 945\n",
    "\n",
    "x_test[346]\n",
    "\n",
    "test_image_batch = np.expand_dims(x_test[346], axis=0)\n",
    "\n",
    "predictions = model.predict(test_image_batch)\n",
    "\n",
    "predicted_class_index = np.argmax(predictions, axis=1)\n",
    "\n",
    "predicted_class_label = label_encoder.inverse_transform(predicted_class_index)    #re transpose back\n",
    "\n",
    "predicted_probability = np.max(predictions, axis=1)\n",
    "\n",
    "print(f\"The model predicts {predicted_class_label[0]} with a probability of {predicted_probability[0]}\")"
   ]
  },
  {
   "cell_type": "markdown",
   "metadata": {},
   "source": [
    "It doesn't work well with \"Center\" either, we should increase the number of default images to increase accuracy.\n",
    "\n",
    "Let's try to change the parameters of our CNN.\n",
    "\n",
    "What can we change ?\n",
    "- the loss function\n",
    "- the CNN structure\n",
    "- the activation\n",
    "- the optimizer\n",
    "- the dropout\n",
    "- the epochs\n",
    "- the batch size\n"
   ]
  },
  {
   "cell_type": "code",
   "execution_count": 99,
   "metadata": {},
   "outputs": [
    {
     "name": "stdout",
     "output_type": "stream",
     "text": [
      "Model: \"sequential_5\"\n",
      "_________________________________________________________________\n",
      " Layer (type)                Output Shape              Param #   \n",
      "=================================================================\n",
      " conv2d_14 (Conv2D)          (None, 24, 24, 32)        896       \n",
      "                                                                 \n",
      " max_pooling2d_14 (MaxPooli  (None, 12, 12, 32)        0         \n",
      " ng2D)                                                           \n",
      "                                                                 \n",
      " conv2d_15 (Conv2D)          (None, 10, 10, 64)        18496     \n",
      "                                                                 \n",
      " max_pooling2d_15 (MaxPooli  (None, 5, 5, 64)          0         \n",
      " ng2D)                                                           \n",
      "                                                                 \n",
      " conv2d_16 (Conv2D)          (None, 3, 3, 128)         73856     \n",
      "                                                                 \n",
      " max_pooling2d_16 (MaxPooli  (None, 1, 1, 128)         0         \n",
      " ng2D)                                                           \n",
      "                                                                 \n",
      " flatten_5 (Flatten)         (None, 128)               0         \n",
      "                                                                 \n",
      " dropout_5 (Dropout)         (None, 128)               0         \n",
      "                                                                 \n",
      " dense_10 (Dense)            (None, 128)               16512     \n",
      "                                                                 \n",
      " dense_11 (Dense)            (None, 9)                 1161      \n",
      "                                                                 \n",
      "=================================================================\n",
      "Total params: 110921 (433.29 KB)\n",
      "Trainable params: 110921 (433.29 KB)\n",
      "Non-trainable params: 0 (0.00 Byte)\n",
      "_________________________________________________________________\n",
      "Epoch 1/10\n",
      "405/405 [==============================] - 14s 30ms/step - loss: 0.3050 - accuracy: 0.9394 - val_loss: 0.2594 - val_accuracy: 0.9457\n",
      "Epoch 2/10\n",
      "405/405 [==============================] - 13s 32ms/step - loss: 0.2129 - accuracy: 0.9498 - val_loss: 0.1914 - val_accuracy: 0.9513\n",
      "Epoch 3/10\n",
      "405/405 [==============================] - 13s 32ms/step - loss: 0.1810 - accuracy: 0.9533 - val_loss: 0.1715 - val_accuracy: 0.9555\n",
      "Epoch 4/10\n",
      "405/405 [==============================] - 13s 33ms/step - loss: 0.1613 - accuracy: 0.9589 - val_loss: 0.1874 - val_accuracy: 0.9569\n",
      "Epoch 5/10\n",
      "405/405 [==============================] - 13s 33ms/step - loss: 0.1465 - accuracy: 0.9623 - val_loss: 0.1598 - val_accuracy: 0.9548\n",
      "Epoch 6/10\n",
      "405/405 [==============================] - 14s 33ms/step - loss: 0.1416 - accuracy: 0.9639 - val_loss: 0.1568 - val_accuracy: 0.9582\n",
      "Epoch 7/10\n",
      "405/405 [==============================] - 16s 39ms/step - loss: 0.1250 - accuracy: 0.9666 - val_loss: 0.1728 - val_accuracy: 0.9582\n",
      "Epoch 8/10\n",
      "405/405 [==============================] - 14s 35ms/step - loss: 0.1132 - accuracy: 0.9671 - val_loss: 0.1558 - val_accuracy: 0.9569\n",
      "Epoch 9/10\n",
      "405/405 [==============================] - 13s 33ms/step - loss: 0.0951 - accuracy: 0.9712 - val_loss: 0.1627 - val_accuracy: 0.9652\n",
      "Epoch 10/10\n",
      "405/405 [==============================] - 14s 34ms/step - loss: 0.0774 - accuracy: 0.9752 - val_loss: 0.2138 - val_accuracy: 0.9624\n",
      "45/45 [==============================] - 1s 11ms/step - loss: 0.2138 - accuracy: 0.9624\n",
      "Test loss: 0.21376095712184906\n",
      "Test accuracy: 0.962421715259552\n"
     ]
    }
   ],
   "source": [
    "from keras.models import Sequential\n",
    "from keras.layers import Conv2D, MaxPooling2D, Flatten, Dense, Dropout\n",
    "\n",
    "model2 = Sequential()\n",
    "\n",
    "model2.add(Conv2D(filters=32, kernel_size=(3, 3), activation='relu', input_shape=(26, 26, 3)))\n",
    "model2.add(MaxPooling2D(pool_size=(2, 2)))\n",
    "model2.add(Conv2D(filters=64, kernel_size=(3, 3), activation='relu'))\n",
    "model2.add(MaxPooling2D(pool_size=(2, 2)))\n",
    "model2.add(Conv2D(filters=128, kernel_size=(3, 3), activation='relu'))\n",
    "model2.add(MaxPooling2D(pool_size=(2, 2)))\n",
    "model2.add(Flatten())\n",
    "model2.add(Dropout(0.35))\n",
    "model2.add(Dense(128, activation='relu'))\n",
    "model2.add(Dense(num_classes, activation='softmax'))\n",
    "model2.compile(loss='categorical_crossentropy', optimizer='adam', metrics=['accuracy'])\n",
    "\n",
    "\n",
    "model2.summary()\n",
    "\n",
    "model2.fit(x_train, y_train, batch_size=32, epochs=10, validation_data=(x_test, y_test))\n",
    "\n",
    "score2 = model2.evaluate(x_test, y_test)\n",
    "print('Test loss:', score2[0])\n",
    "print('Test accuracy:', score2[1])"
   ]
  },
  {
   "cell_type": "markdown",
   "metadata": {},
   "source": [
    "By reducing the dropout from 50 to 35%, we have obtained a slightly better accuracy but it may not be significant.\n",
    "On this training, the accuracy of the epoch 9/10 is better than the one of the epoch 10/10, so increase the number of epochs shouldn't be very relevant.\n",
    "\n",
    "Let's try to change the optimizer, we will take RMSprop"
   ]
  },
  {
   "cell_type": "code",
   "execution_count": 101,
   "metadata": {},
   "outputs": [
    {
     "name": "stdout",
     "output_type": "stream",
     "text": [
      "Epoch 1/10\n",
      "405/405 [==============================] - 15s 32ms/step - loss: 0.2940 - accuracy: 0.9414 - val_loss: 0.2191 - val_accuracy: 0.9464\n",
      "Epoch 2/10\n",
      "405/405 [==============================] - 13s 31ms/step - loss: 0.2077 - accuracy: 0.9499 - val_loss: 0.1923 - val_accuracy: 0.9513\n",
      "Epoch 3/10\n",
      "405/405 [==============================] - 13s 33ms/step - loss: 0.1794 - accuracy: 0.9544 - val_loss: 0.1750 - val_accuracy: 0.9548\n",
      "Epoch 4/10\n",
      "405/405 [==============================] - 14s 34ms/step - loss: 0.1625 - accuracy: 0.9590 - val_loss: 0.1761 - val_accuracy: 0.9589\n",
      "Epoch 5/10\n",
      "405/405 [==============================] - 13s 33ms/step - loss: 0.1491 - accuracy: 0.9608 - val_loss: 0.1676 - val_accuracy: 0.9596\n",
      "Epoch 6/10\n",
      "405/405 [==============================] - 13s 33ms/step - loss: 0.1369 - accuracy: 0.9649 - val_loss: 0.1786 - val_accuracy: 0.9492\n",
      "Epoch 7/10\n",
      "405/405 [==============================] - 13s 33ms/step - loss: 0.1231 - accuracy: 0.9660 - val_loss: 0.1767 - val_accuracy: 0.9589\n",
      "Epoch 8/10\n",
      "405/405 [==============================] - 13s 33ms/step - loss: 0.1122 - accuracy: 0.9679 - val_loss: 0.1642 - val_accuracy: 0.9562\n",
      "Epoch 9/10\n",
      "405/405 [==============================] - 13s 33ms/step - loss: 0.1012 - accuracy: 0.9705 - val_loss: 0.1816 - val_accuracy: 0.9624\n",
      "Epoch 10/10\n",
      "405/405 [==============================] - 14s 34ms/step - loss: 0.0929 - accuracy: 0.9731 - val_loss: 0.2108 - val_accuracy: 0.9624\n",
      "45/45 [==============================] - 0s 10ms/step - loss: 0.2108 - accuracy: 0.9624\n",
      "Test loss: 0.21075183153152466\n",
      "Test accuracy: 0.962421715259552\n"
     ]
    }
   ],
   "source": [
    "from keras.models import Sequential\n",
    "from keras.layers import Conv2D, MaxPooling2D, Flatten, Dense, Dropout\n",
    "\n",
    "model3 = Sequential()\n",
    "\n",
    "model3.add(Conv2D(filters=32, kernel_size=(3, 3), activation='relu', input_shape=(26, 26, 3)))\n",
    "model3.add(MaxPooling2D(pool_size=(2, 2)))\n",
    "model3.add(Conv2D(filters=64, kernel_size=(3, 3), activation='relu'))\n",
    "model3.add(MaxPooling2D(pool_size=(2, 2)))\n",
    "model3.add(Conv2D(filters=128, kernel_size=(3, 3), activation='relu'))\n",
    "model3.add(MaxPooling2D(pool_size=(2, 2)))\n",
    "model3.add(Flatten())\n",
    "model3.add(Dropout(0.35))\n",
    "model3.add(Dense(128, activation='relu'))\n",
    "model3.add(Dense(num_classes, activation='softmax'))\n",
    "model3.compile(loss='categorical_crossentropy', optimizer='RMSprop', metrics=['accuracy'])    # new optimizer\n",
    "\n",
    "\n",
    "model3.fit(x_train, y_train, batch_size=32, epochs=10, validation_data=(x_test, y_test))\n",
    "\n",
    "score3 = model3.evaluate(x_test, y_test)\n",
    "print('Test loss:', score3[0])\n",
    "print('Test accuracy:', score3[1])"
   ]
  },
  {
   "cell_type": "markdown",
   "metadata": {},
   "source": [
    "The accuracy we got is pretty much the same as the last model but the optimizer 'RMSprop' seems also interesting to use.\n",
    "\n",
    "The parameters we still have not changed are :\n",
    "\n",
    "- the loss function\n",
    "- the CNN structure\n",
    "- the activation\n",
    "- the batch size\n",
    "\n",
    "For this classification problem, the loss function we used ('categorical_crossentropy') is usally the best choice.\n",
    "ReLu functions are also a pretty good solution, we could change our CNN structure and maybe add layers, but we would risk overfitting.\n",
    "Let's try changing the batch size."
   ]
  },
  {
   "cell_type": "code",
   "execution_count": 102,
   "metadata": {},
   "outputs": [
    {
     "name": "stdout",
     "output_type": "stream",
     "text": [
      "Epoch 1/10\n",
      "203/203 [==============================] - 14s 60ms/step - loss: 0.3414 - accuracy: 0.9360 - val_loss: 0.2364 - val_accuracy: 0.9450\n",
      "Epoch 2/10\n",
      "203/203 [==============================] - 12s 58ms/step - loss: 0.2241 - accuracy: 0.9474 - val_loss: 0.2099 - val_accuracy: 0.9436\n",
      "Epoch 3/10\n",
      "203/203 [==============================] - 11s 56ms/step - loss: 0.1875 - accuracy: 0.9527 - val_loss: 0.1774 - val_accuracy: 0.9562\n",
      "Epoch 4/10\n",
      "203/203 [==============================] - 12s 57ms/step - loss: 0.1734 - accuracy: 0.9552 - val_loss: 0.1706 - val_accuracy: 0.9541\n",
      "Epoch 5/10\n",
      "203/203 [==============================] - 12s 59ms/step - loss: 0.1627 - accuracy: 0.9592 - val_loss: 0.1730 - val_accuracy: 0.9548\n",
      "Epoch 6/10\n",
      "203/203 [==============================] - 12s 58ms/step - loss: 0.1523 - accuracy: 0.9627 - val_loss: 0.1626 - val_accuracy: 0.9555\n",
      "Epoch 7/10\n",
      "203/203 [==============================] - 12s 60ms/step - loss: 0.1403 - accuracy: 0.9630 - val_loss: 0.1691 - val_accuracy: 0.9576\n",
      "Epoch 8/10\n",
      "203/203 [==============================] - 12s 61ms/step - loss: 0.1331 - accuracy: 0.9648 - val_loss: 0.1443 - val_accuracy: 0.9589\n",
      "Epoch 9/10\n",
      "203/203 [==============================] - 12s 59ms/step - loss: 0.1209 - accuracy: 0.9662 - val_loss: 0.1451 - val_accuracy: 0.9596\n",
      "Epoch 10/10\n",
      "203/203 [==============================] - 12s 60ms/step - loss: 0.1122 - accuracy: 0.9681 - val_loss: 0.1357 - val_accuracy: 0.9652\n",
      "45/45 [==============================] - 0s 10ms/step - loss: 0.1357 - accuracy: 0.9652\n",
      "Test loss: 0.13568878173828125\n",
      "Test accuracy: 0.9652053117752075\n"
     ]
    }
   ],
   "source": [
    "from keras.models import Sequential\n",
    "from keras.layers import Conv2D, MaxPooling2D, Flatten, Dense, Dropout\n",
    "\n",
    "model4 = Sequential()\n",
    "\n",
    "model4.add(Conv2D(filters=32, kernel_size=(3, 3), activation='relu', input_shape=(26, 26, 3)))\n",
    "model4.add(MaxPooling2D(pool_size=(2, 2)))\n",
    "model4.add(Conv2D(filters=64, kernel_size=(3, 3), activation='relu'))\n",
    "model4.add(MaxPooling2D(pool_size=(2, 2)))\n",
    "model4.add(Conv2D(filters=128, kernel_size=(3, 3), activation='relu'))\n",
    "model4.add(MaxPooling2D(pool_size=(2, 2)))\n",
    "model4.add(Flatten())\n",
    "model4.add(Dropout(0.35))\n",
    "model4.add(Dense(128, activation='relu'))\n",
    "model4.add(Dense(num_classes, activation='softmax'))\n",
    "model4.compile(loss='categorical_crossentropy', optimizer='adam', metrics=['accuracy'])\n",
    "\n",
    "\n",
    "model4.fit(x_train, y_train, batch_size=64, epochs=10, validation_data=(x_test, y_test))    # batch size from 32 to 64\n",
    "\n",
    "score4 = model4.evaluate(x_test, y_test)\n",
    "print('Test loss:', score4[0])\n",
    "print('Test accuracy:', score4[1])"
   ]
  },
  {
   "cell_type": "markdown",
   "metadata": {},
   "source": [
    "Changing the batch size seem to have improved the accuracy, the accuracy has nearly increased at every epoch, so maybe we could add a few epochs to the training."
   ]
  },
  {
   "cell_type": "markdown",
   "metadata": {},
   "source": [
    "We finally obtained an accuracy of 96.5%, it is pretty satisfying, but some more fine parameters could still be changed to make progress, such as :\n",
    "- the CNN structure\n",
    "- the activation"
   ]
  }
 ],
 "metadata": {
  "kernelspec": {
   "display_name": "Python 3",
   "language": "python",
   "name": "python3"
  },
  "language_info": {
   "codemirror_mode": {
    "name": "ipython",
    "version": 3
   },
   "file_extension": ".py",
   "mimetype": "text/x-python",
   "name": "python",
   "nbconvert_exporter": "python",
   "pygments_lexer": "ipython3",
   "version": "3.11.0"
  }
 },
 "nbformat": 4,
 "nbformat_minor": 2
}
